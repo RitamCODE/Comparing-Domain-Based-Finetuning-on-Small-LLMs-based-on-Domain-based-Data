{
 "cells": [
  {
   "cell_type": "code",
   "execution_count": 11,
   "metadata": {},
   "outputs": [],
   "source": [
    "import json\n",
    "\n",
    "input_file = r\"raw_dataset/train.jsonl\"  # Update this if needed\n",
    "output_file = r\"processed/unsupervised_structured_train.jsonl\""
   ]
  },
  {
   "cell_type": "code",
   "execution_count": null,
   "metadata": {},
   "outputs": [],
   "source": [
    "def extract_sections(data):\n",
    "    title = data.get(\"title\", \"\").strip()\n",
    "    abstract = data.get(\"abstract\", \"\").strip()\n",
    "    full_text = data.get(\"full_text\", {})\n",
    "    section_names = full_text.get(\"section_name\", [])\n",
    "    paragraphs = full_text.get(\"paragraphs\", [])\n",
    "\n",
    "    introduction, conclusion, full_body = [], [], []\n",
    "\n",
    "    for sec_name, paras in zip(section_names, paragraphs):\n",
    "        if not sec_name or not paras or not isinstance(paras, list):\n",
    "            continue  # Skip missing or invalid sections\n",
    "\n",
    "        sec_name_lower = sec_name.lower()\n",
    "        clean_paras = \"\\n\".join(p.strip() for p in paras if isinstance(p, str) and p.strip()).strip()\n",
    "\n",
    "        if not clean_paras:\n",
    "            continue\n",
    "\n",
    "        if \"introduction\" in sec_name_lower:\n",
    "            introduction.append(clean_paras)\n",
    "        elif \"conclusion\" in sec_name_lower:\n",
    "            conclusion.append(clean_paras)\n",
    "        else:\n",
    "            full_body.append(f\"### {sec_name}\\n{clean_paras}\")\n",
    "\n",
    "\n",
    "    return {\n",
    "        \"title\": title,\n",
    "        \"abstract\": abstract,\n",
    "        \"introduction\": \"\\n\\n\".join(introduction).strip(),\n",
    "        \"full_text\": \"\\n\\n\".join(full_body).strip(),\n",
    "        \"conclusion\": \"\\n\\n\".join(conclusion).strip()\n",
    "    }"
   ]
  },
  {
   "cell_type": "code",
   "execution_count": 15,
   "metadata": {},
   "outputs": [
    {
     "ename": "AttributeError",
     "evalue": "'NoneType' object has no attribute 'lower'",
     "output_type": "error",
     "traceback": [
      "\u001b[0;31m---------------------------------------------------------------------------\u001b[0m",
      "\u001b[0;31mAttributeError\u001b[0m                            Traceback (most recent call last)",
      "Cell \u001b[0;32mIn[15], line 16\u001b[0m\n\u001b[1;32m     13\u001b[0m     \u001b[38;5;28mprint\u001b[39m(\u001b[38;5;124mf\u001b[39m\u001b[38;5;124m\"\u001b[39m\u001b[38;5;124m✅ Done. \u001b[39m\u001b[38;5;132;01m{\u001b[39;00mcount\u001b[38;5;132;01m}\u001b[39;00m\u001b[38;5;124m entries written to \u001b[39m\u001b[38;5;132;01m{\u001b[39;00moutput_file\u001b[38;5;132;01m}\u001b[39;00m\u001b[38;5;124m\"\u001b[39m)\n\u001b[1;32m     15\u001b[0m \u001b[38;5;28;01mif\u001b[39;00m \u001b[38;5;18m__name__\u001b[39m \u001b[38;5;241m==\u001b[39m \u001b[38;5;124m\"\u001b[39m\u001b[38;5;124m__main__\u001b[39m\u001b[38;5;124m\"\u001b[39m:\n\u001b[0;32m---> 16\u001b[0m     \u001b[43mmain\u001b[49m\u001b[43m(\u001b[49m\u001b[43m)\u001b[49m\n",
      "Cell \u001b[0;32mIn[15], line 6\u001b[0m, in \u001b[0;36mmain\u001b[0;34m()\u001b[0m\n\u001b[1;32m      4\u001b[0m \u001b[38;5;28;01mfor\u001b[39;00m line \u001b[38;5;129;01min\u001b[39;00m infile:\n\u001b[1;32m      5\u001b[0m     data \u001b[38;5;241m=\u001b[39m json\u001b[38;5;241m.\u001b[39mloads(line)\n\u001b[0;32m----> 6\u001b[0m     structured \u001b[38;5;241m=\u001b[39m \u001b[43mextract_sections\u001b[49m\u001b[43m(\u001b[49m\u001b[43mdata\u001b[49m\u001b[43m)\u001b[49m\n\u001b[1;32m      8\u001b[0m     \u001b[38;5;28;01mif\u001b[39;00m \u001b[38;5;28many\u001b[39m(structured\u001b[38;5;241m.\u001b[39mvalues()):  \u001b[38;5;66;03m# At least one field must be non-empty\u001b[39;00m\n\u001b[1;32m      9\u001b[0m         json\u001b[38;5;241m.\u001b[39mdump(structured, outfile)\n",
      "Cell \u001b[0;32mIn[14], line 18\u001b[0m, in \u001b[0;36mextract_sections\u001b[0;34m(data)\u001b[0m\n\u001b[1;32m     15\u001b[0m \u001b[38;5;28;01mif\u001b[39;00m \u001b[38;5;129;01mnot\u001b[39;00m clean_paras:\n\u001b[1;32m     16\u001b[0m     \u001b[38;5;28;01mcontinue\u001b[39;00m\n\u001b[0;32m---> 18\u001b[0m sec_name_lower \u001b[38;5;241m=\u001b[39m \u001b[43msec_name\u001b[49m\u001b[38;5;241;43m.\u001b[39;49m\u001b[43mlower\u001b[49m()\n\u001b[1;32m     20\u001b[0m \u001b[38;5;28;01mif\u001b[39;00m \u001b[38;5;124m\"\u001b[39m\u001b[38;5;124mintroduction\u001b[39m\u001b[38;5;124m\"\u001b[39m \u001b[38;5;129;01min\u001b[39;00m sec_name_lower:\n\u001b[1;32m     21\u001b[0m     introduction\u001b[38;5;241m.\u001b[39mappend(clean_paras)\n",
      "\u001b[0;31mAttributeError\u001b[0m: 'NoneType' object has no attribute 'lower'"
     ]
    }
   ],
   "source": [
    "def main():\n",
    "    count = 0\n",
    "    with open(input_file, \"r\", encoding=\"utf-8\") as infile, open(output_file, \"w\", encoding=\"utf-8\") as outfile:\n",
    "        for line in infile:\n",
    "            data = json.loads(line)\n",
    "            structured = extract_sections(data)\n",
    "\n",
    "            if any(structured.values()):  # At least one field must be non-empty\n",
    "                json.dump(structured, outfile)\n",
    "                outfile.write(\"\\n\")\n",
    "                count += 1\n",
    "\n",
    "    print(f\"✅ Done. {count} entries written to {output_file}\")\n",
    "\n",
    "if __name__ == \"__main__\":\n",
    "    main()"
   ]
  },
  {
   "cell_type": "code",
   "execution_count": null,
   "metadata": {},
   "outputs": [],
   "source": []
  }
 ],
 "metadata": {
  "kernelspec": {
   "display_name": "Python (NLPenv)",
   "language": "python",
   "name": "nlpenv"
  },
  "language_info": {
   "codemirror_mode": {
    "name": "ipython",
    "version": 3
   },
   "file_extension": ".py",
   "mimetype": "text/x-python",
   "name": "python",
   "nbconvert_exporter": "python",
   "pygments_lexer": "ipython3",
   "version": "3.10.16"
  }
 },
 "nbformat": 4,
 "nbformat_minor": 2
}
