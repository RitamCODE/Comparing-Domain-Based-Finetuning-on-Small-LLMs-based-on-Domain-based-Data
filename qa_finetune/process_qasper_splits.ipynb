{
 "cells": [
  {
   "cell_type": "code",
   "execution_count": null,
   "metadata": {},
   "outputs": [],
   "source": [
    "import json\n",
    "import os\n",
    "\n",
    "input_file = \"raw_dataset/train.jsonl\"\n",
    "output_file = \"processed/train_instruction.jsonl\""
   ]
  },
  {
   "cell_type": "code",
   "execution_count": null,
   "metadata": {},
   "outputs": [],
   "source": [
    "instruction_data = []\n",
    "\n",
    "with open(input_file, \"r\") as fin:\n",
    "    for line in fin:\n",
    "        entry = json.loads(line)\n",
    "        print(\"🔍 RAW ENTRY SAMPLE:\")\n",
    "        print(json.dumps(entry, indent=2))\n",
    "        break\n",
    "        abstract = entry.get(\"abstract\", \"\").strip()\n",
    "        questions = entry.get(\"question\", [])\n",
    "        answers = entry.get(\"answers\", [])\n",
    "\n",
    "        for i in range(len(questions)):\n",
    "            question = questions[i].strip()\n",
    "            answer_block = answers[i]\n",
    "\n",
    "            if not isinstance(answer_block, dict):\n",
    "                continue\n",
    "\n",
    "            annotations = answer_block.get(\"answer\", [])\n",
    "            if not annotations or not isinstance(annotations[0], dict):\n",
    "                continue\n",
    "\n",
    "            ann = annotations[0]\n",
    "\n",
    "            if ann.get(\"unanswerable\", False):\n",
    "                continue\n",
    "\n",
    "            # Prefer free_form_answer\n",
    "            answer = ann.get(\"free_form_answer\", \"\").strip()\n",
    "\n",
    "            # Fallback to extractive_span\n",
    "            if not answer:\n",
    "                spans = ann.get(\"extractive_spans\", [])\n",
    "                if spans and isinstance(spans[0], str):\n",
    "                    answer = spans[0].strip()\n",
    "\n",
    "            if not answer:\n",
    "                continue\n",
    "\n",
    "            explanation = ann.get(\"highlighted_evidence\", [])\n",
    "            explanation_text = explanation[0].strip() if explanation else \"\"\n",
    "\n",
    "            input_text = f\"{abstract}\\nQuestion: {question}\"\n",
    "            output_text = f\"{answer}. Explanation: {explanation_text}\" if explanation_text else answer\n",
    "\n",
    "            instruction_data.append({\n",
    "                \"input\": input_text,\n",
    "                \"output\": output_text\n",
    "            })\n"
   ]
  },
  {
   "cell_type": "code",
   "execution_count": null,
   "metadata": {},
   "outputs": [
    {
     "name": "stdout",
     "output_type": "stream",
     "text": [
      "✅ Converted 0 QA pairs to processed/train_instruction.jsonl\n"
     ]
    }
   ],
   "source": []
  },
  {
   "cell_type": "markdown",
   "metadata": {},
   "source": []
  },
  {
   "cell_type": "code",
   "execution_count": null,
   "metadata": {},
   "outputs": [],
   "source": []
  }
 ],
 "metadata": {
  "kernelspec": {
   "display_name": "Python (NLPenv)",
   "language": "python",
   "name": "nlpenv"
  },
  "language_info": {
   "codemirror_mode": {
    "name": "ipython",
    "version": 3
   },
   "file_extension": ".py",
   "mimetype": "text/x-python",
   "name": "python",
   "nbconvert_exporter": "python",
   "pygments_lexer": "ipython3",
   "version": "3.10.16"
  }
 },
 "nbformat": 4,
 "nbformat_minor": 2
}
